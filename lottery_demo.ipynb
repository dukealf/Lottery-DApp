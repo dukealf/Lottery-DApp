{
 "cells": [
  {
   "cell_type": "markdown",
   "id": "based-nightlife",
   "metadata": {},
   "source": [
    "# Lottery Demo\n",
    "\n",
    "### By: Duke Alf\n",
    "### Date: April 2021"
   ]
  },
  {
   "cell_type": "markdown",
   "id": "lined-plain",
   "metadata": {},
   "source": [
    "## Decentralized Lottery App on the Ethereum Blockchain\n",
    "\n",
    "### Overview:\n",
    "This is a demo for a simple lottery Dapp. The traditional lottery system is inherently unfair to players. Winnings are lost due to splitting pots, paying taxes, and fraud. This app allows players to join a lottery for the cost of 1 ether. Each address can only enter the lottery once. The winner is randomly selected and recieves the entire payout. \n",
    "\n",
    "### Process:\n",
    "-the owner of the contract opens the lottery \n",
    "-players can enter the lottery by sending 1 ether\n",
    "-the ether is pooled together\n",
    "-the owner closes the lottery and calls a function to randomly select a winner\n",
    "-the winner and payout is visible to all\n",
    "-the winning address recieves the payout\n",
    "-the owner can reset the lottery and the process can begin again\n",
    "\n",
    "### Contracts:\n",
    "There is one Solidity contract called Lottery.sol. This contains all necessary information to successfully conduct the lottery. This can be found in the contracts folder. \n",
    "\n",
    "### Demo:\n",
    "Run the cells in order and follow comments. The blockchain I use to deploy and test the contract is [eth-tester](https://github.com/ethereum/eth-tester). This supports the PyEVM backend, which is a full Ethereum implementation in Python. I interact with PyEVM using Web3. Eth-tester will automatically be set to interact with PyEVM.\n",
    "\n",
    "`pip install web3[tester]` installs `Web3.py`, `eth-tester`, and `PyEVM`"
   ]
  },
  {
   "cell_type": "code",
   "execution_count": 158,
   "id": "otherwise-whale",
   "metadata": {},
   "outputs": [],
   "source": [
    "from solcx import set_solc_version, compile_files\n",
    "from web3 import Web3\n",
    "\n",
    "from eth_tester import EthereumTester, PyEVMBackend\n",
    "\n",
    "import os"
   ]
  },
  {
   "cell_type": "code",
   "execution_count": 159,
   "id": "configured-patent",
   "metadata": {},
   "outputs": [],
   "source": [
    "set_solc_version('v0.7.6')"
   ]
  },
  {
   "cell_type": "code",
   "execution_count": 160,
   "id": "theoretical-missile",
   "metadata": {},
   "outputs": [],
   "source": [
    "# EthereumTester used explicitly to get accounts\n",
    "TESTER = EthereumTester(backend=PyEVMBackend())"
   ]
  },
  {
   "cell_type": "markdown",
   "id": "german-creativity",
   "metadata": {},
   "source": [
    "The following functions are used to compile contracts. "
   ]
  },
  {
   "cell_type": "code",
   "execution_count": 161,
   "id": "comparative-system",
   "metadata": {},
   "outputs": [],
   "source": [
    "def get_contract_path(contract_name):\n",
    "    '''\n",
    "    construct path to contract file\n",
    "    assumes there is a subdirectory in your current working directory named \"contracts\"\n",
    "    \n",
    "    contract_name: the name of the contract (without the .sol suffix)\n",
    "    '''\n",
    "    return os.path.join(os.getcwd(), 'contracts', f'{contract_name}.sol')\n",
    "\n",
    "def compile_contract(contract_name):\n",
    "    '''\n",
    "    compile contract and get the result of compilation\n",
    "    \n",
    "    contract_name: the name of the contract, which should match the filename (without the .sol suffix)\n",
    "    '''\n",
    "    source_file_name = get_contract_path(contract_name)\n",
    "    compiled_sol = compile_files([source_file_name]) # Compiled source code\n",
    "    return compiled_sol[source_file_name + \":\" + contract_name]"
   ]
  },
  {
   "cell_type": "markdown",
   "id": "acknowledged-spare",
   "metadata": {},
   "source": [
    "`get_w3` initiates a web3 object which we use to interact with the backend"
   ]
  },
  {
   "cell_type": "code",
   "execution_count": 163,
   "id": "prepared-costa",
   "metadata": {},
   "outputs": [],
   "source": [
    "def get_w3(provider, account=None):\n",
    "    '''\n",
    "    get a web3 object instance\n",
    "    sets the default account to the one provided or the first test account if not provided\n",
    "    \n",
    "    provider: backend test provider\n",
    "    account:  the account number to set as default, or None if you want to use the first test account\n",
    "    '''\n",
    "    # web3.py instance\n",
    "    w3 = Web3(provider)\n",
    "    \n",
    "    if account:\n",
    "        # set account as default sender of transactions\n",
    "        w3.eth.defaultAccount = account\n",
    "    else:\n",
    "        # set the first test account as default sender of transactions\n",
    "        w3.eth.defaultAccount = w3.eth.accounts[0]\n",
    "    \n",
    "    return w3"
   ]
  },
  {
   "cell_type": "markdown",
   "id": "cardiac-associate",
   "metadata": {},
   "source": [
    "Now, we deploy the contract to the blockchain. We pass in the `w3` object, `compiled_contract`, and `c_args` (which is any arguments taken in the constructor of the contract - optional).\n",
    "\n",
    "We make a transaction with the blockchain by deploying our contract.\n",
    "\n",
    "Once the transaction is complete, we must return its address, abi, and bytecode through `deployed_contract_interface`. We also return `tx_receipt` which holds information about the transaction such as index, gas used, block number, address, etc. "
   ]
  },
  {
   "cell_type": "code",
   "execution_count": 164,
   "id": "authorized-crash",
   "metadata": {},
   "outputs": [],
   "source": [
    "def deploy_contract(w3, compiled_contract, *c_args):\n",
    "    '''\n",
    "    deploy the contract\n",
    "    \n",
    "    w3: web3 object instance\n",
    "    compiled_contract: dictionary of compiled contract should have values for the keys: \"abi\" and \"bin\"\n",
    "    *c_args: a variable number of contract arguments to pass to the constructor of the contract\n",
    "    '''\n",
    "    # get the contract interface from the compiled contract\n",
    "    contract_interface = w3.eth.contract(abi=compiled_contract['abi'], bytecode=compiled_contract['bin'])\n",
    "    \n",
    "    # Instantiate the contract by passing in constructor args, and submit the transaction to deploy\n",
    "    tx_hash = contract_interface.constructor(*c_args).transact()\n",
    "    \n",
    "    # Wait for the transaction to be put into a block, and get the transaction receipt\n",
    "    tx_receipt = w3.eth.waitForTransactionReceipt(tx_hash)\n",
    "    \n",
    "    # Get the deployed contract instance from the blockchain with the newly-deployed contract's address\n",
    "    deployed_contract_interface = w3.eth.contract(\n",
    "        address=tx_receipt.contractAddress,\n",
    "        abi=compiled_contract['abi'],\n",
    "        bytecode=compiled_contract['bin']\n",
    "    )\n",
    "    \n",
    "    return tx_receipt, deployed_contract_interface"
   ]
  },
  {
   "cell_type": "markdown",
   "id": "precious-wyoming",
   "metadata": {},
   "source": [
    "These are demo accounts we will use to test the contract. "
   ]
  },
  {
   "cell_type": "code",
   "execution_count": 165,
   "id": "published-hollow",
   "metadata": {},
   "outputs": [
    {
     "data": {
      "text/plain": [
       "('0x7E5F4552091A69125d5DfCb7b8C2659029395Bdf',\n",
       " '0x2B5AD5c4795c026514f8317c7a215E218DcCD6cF',\n",
       " '0x6813Eb9362372EEF6200f3b1dbC3f819671cBA69',\n",
       " '0x1efF47bc3a10a45D4B230B5d10E37751FE6AA718',\n",
       " '0xe1AB8145F7E55DC933d51a18c793F901A3A0b276',\n",
       " '0xE57bFE9F44b819898F47BF37E5AF72a0783e1141',\n",
       " '0xd41c057fd1c78805AAC12B0A94a405c0461A6FBb',\n",
       " '0xF1F6619B38A98d6De0800F1DefC0a6399eB6d30C',\n",
       " '0xF7Edc8FA1eCc32967F827C9043FcAe6ba73afA5c',\n",
       " '0x4CCeBa2d7D2B4fdcE4304d3e09a1fea9fbEb1528')"
      ]
     },
     "execution_count": 165,
     "metadata": {},
     "output_type": "execute_result"
    }
   ],
   "source": [
    "TESTER.get_accounts()"
   ]
  },
  {
   "cell_type": "code",
   "execution_count": 166,
   "id": "blind-exclusion",
   "metadata": {},
   "outputs": [],
   "source": [
    "owner = TESTER.get_accounts()[0]\n",
    "alice = TESTER.get_accounts()[1]\n",
    "bob = TESTER.get_accounts()[2]\n",
    "joe = TESTER.get_accounts()[3]\n",
    "mark = TESTER.get_accounts()[4]\n",
    "sara = TESTER.get_accounts()[5]"
   ]
  },
  {
   "cell_type": "markdown",
   "id": "future-department",
   "metadata": {},
   "source": [
    "Now, we compile the contract and connect to the blockchain. "
   ]
  },
  {
   "cell_type": "code",
   "execution_count": 167,
   "id": "overhead-december",
   "metadata": {},
   "outputs": [],
   "source": [
    "sc_compiled = compile_contract(\"Lottery\")\n",
    "provider = Web3.EthereumTesterProvider(ethereum_tester=TESTER)"
   ]
  },
  {
   "cell_type": "markdown",
   "id": "academic-failing",
   "metadata": {},
   "source": [
    "Using the provider, we get the web3 object, passing in the default account which is the owner of the lottery. The returned `Web3` object, connected to the `PyEVM` backend through `eth-tester`, is how we interact with the blockchain."
   ]
  },
  {
   "cell_type": "code",
   "execution_count": 168,
   "id": "tough-stevens",
   "metadata": {},
   "outputs": [],
   "source": [
    "sc_w3 = get_w3(provider, owner)"
   ]
  },
  {
   "cell_type": "markdown",
   "id": "light-arbor",
   "metadata": {},
   "source": [
    "We deploy to the blockchain using the above and get back our receipt and contract interface/information. "
   ]
  },
  {
   "cell_type": "code",
   "execution_count": 169,
   "id": "fabulous-despite",
   "metadata": {},
   "outputs": [],
   "source": [
    "sc_receipt, sc_contract = deploy_contract(sc_w3, sc_compiled)"
   ]
  },
  {
   "cell_type": "markdown",
   "id": "official-tutorial",
   "metadata": {},
   "source": [
    "Here are the functions we can call. "
   ]
  },
  {
   "cell_type": "code",
   "execution_count": 170,
   "id": "moral-greece",
   "metadata": {},
   "outputs": [
    {
     "data": {
      "text/plain": [
       "[<Function closeLottery()>,\n",
       " <Function generateWinner()>,\n",
       " <Function joinLottery()>,\n",
       " <Function num_players()>,\n",
       " <Function openLottery()>,\n",
       " <Function playerList(uint256)>,\n",
       " <Function resetLottery()>,\n",
       " <Function winner()>]"
      ]
     },
     "execution_count": 170,
     "metadata": {},
     "output_type": "execute_result"
    }
   ],
   "source": [
    "sc_contract.all_functions()"
   ]
  },
  {
   "cell_type": "markdown",
   "id": "swedish-intelligence",
   "metadata": {},
   "source": [
    "The following functions make it easier to execute transactions. "
   ]
  },
  {
   "cell_type": "code",
   "execution_count": 171,
   "id": "simplified-rover",
   "metadata": {},
   "outputs": [],
   "source": [
    "def exec_call(contract_interface, function_name, *f_args, transaction={}):\n",
    "    '''\n",
    "    execute a call, which does not execute a transaction (i.e. no write)\n",
    "    \n",
    "    contract_interface: web3 object initialized with compiled contract and its address\n",
    "    function_name: name of the function in the smart contract to be invoked\n",
    "    f_args: variable number of arguments to pass in to the function in the smart contract\n",
    "    transaction: dictionary containing transaction fields\n",
    "    '''\n",
    "    func_inst = contract_interface.get_function_by_name(function_name)\n",
    "\n",
    "    return_value = func_inst(*f_args).call(transaction)\n",
    "    return return_value\n",
    "\n",
    "def exec_transact_receipt(contract_interface, function_name, *f_args, transaction={}):\n",
    "    '''\n",
    "    execute a transaction (i.e. a write), and return the transaction receipt\n",
    "    \n",
    "    contract_interface: web3 object initialized with compiled contract and its address\n",
    "    function_name: name of the function in the smart contract to be invoked\n",
    "    f_args: variable number of arguments to pass in to the function in the smart contract\n",
    "    transaction: dictionary containing transaction fields\n",
    "    '''\n",
    "    func_inst = contract_interface.get_function_by_name(function_name)\n",
    "    \n",
    "    # get the return value first, without executing transaction\n",
    "    return_value = exec_call(contract_interface, function_name, *f_args, transaction=transaction)\n",
    "    \n",
    "    # execute the transaction\n",
    "    tx_hash = func_inst(*f_args).transact(transaction)\n",
    "    # receipt does not contain values returned by function\n",
    "    tx_receipt = contract_interface.web3.eth.waitForTransactionReceipt(tx_hash)\n",
    "    \n",
    "    return return_value, tx_receipt\n",
    "\n",
    "def exec_transact(contract_interface, function_name, *f_args, transaction={}):\n",
    "    '''\n",
    "    execute transaction, but ignore the transaction receipt\n",
    "    \n",
    "    contract_interface: web3 object initialized with compiled contract and its address\n",
    "    function_name: name of the function in the smart contract to be invoked\n",
    "    f_args: variable number of arguments to pass in to the function in the smart contract\n",
    "    transaction: dictionary containing transaction fields\n",
    "    '''\n",
    "    rv, _ = exec_transact_receipt(contract_interface, function_name, *f_args, transaction=transaction)\n",
    "    return rv"
   ]
  },
  {
   "cell_type": "markdown",
   "id": "flexible-tuition",
   "metadata": {},
   "source": [
    "Now, we can start interacting with the Lottery. \n",
    "\n",
    "To start, I will show that you can't join the lottery until the owner opens it, and only the owner can do this. "
   ]
  },
  {
   "cell_type": "markdown",
   "id": "italic-reset",
   "metadata": {},
   "source": [
    "Let's try to have alice join the lottery before it is open:"
   ]
  },
  {
   "cell_type": "code",
   "execution_count": 172,
   "id": "vietnamese-dividend",
   "metadata": {},
   "outputs": [
    {
     "name": "stdout",
     "output_type": "stream",
     "text": [
      "Lottery is not open yet. Check back later.\n"
     ]
    }
   ],
   "source": [
    "try:\n",
    "    exec_transact(sc_contract, \"joinLottery\", transaction={'from': alice,'value': sc_w3.toWei(1, 'ether')})\n",
    "except:\n",
    "    print(\"Lottery is not open yet. Check back later.\")"
   ]
  },
  {
   "cell_type": "markdown",
   "id": "authorized-joyce",
   "metadata": {},
   "source": [
    "Let's have alice try to open the lottery:"
   ]
  },
  {
   "cell_type": "code",
   "execution_count": 173,
   "id": "fatal-villa",
   "metadata": {},
   "outputs": [
    {
     "name": "stdout",
     "output_type": "stream",
     "text": [
      "Only the Owner can perform this action.\n"
     ]
    }
   ],
   "source": [
    "try:\n",
    "    exec_transact(sc_contract, \"openLottery\", transaction={'from': alice})\n",
    "except:\n",
    "    print(\"Only the Owner can perform this action.\")"
   ]
  },
  {
   "cell_type": "markdown",
   "id": "japanese-iceland",
   "metadata": {},
   "source": [
    "Now, we will demonstrate the owner opening the lottery and addresses properly buying into the lottery for 1 ether. "
   ]
  },
  {
   "cell_type": "code",
   "execution_count": 174,
   "id": "atomic-amplifier",
   "metadata": {},
   "outputs": [],
   "source": [
    "# owner opens lottery\n",
    "openID, open_receipt = exec_transact_receipt(sc_contract, \"openLottery\", transaction={'from': owner})"
   ]
  },
  {
   "cell_type": "code",
   "execution_count": 175,
   "id": "adequate-attitude",
   "metadata": {},
   "outputs": [
    {
     "data": {
      "text/plain": [
       "[]"
      ]
     },
     "execution_count": 175,
     "metadata": {},
     "output_type": "execute_result"
    }
   ],
   "source": [
    "openID"
   ]
  },
  {
   "cell_type": "code",
   "execution_count": 176,
   "id": "surrounded-stage",
   "metadata": {},
   "outputs": [
    {
     "data": {
      "text/plain": [
       "AttributeDict({'transactionHash': HexBytes('0xdc5b6aed4503befbd5cb491460b60431614d6fbd734a452b85466dde8f47aec5'),\n",
       " 'transactionIndex': 0,\n",
       " 'blockNumber': 2,\n",
       " 'blockHash': HexBytes('0x5096db7525e122a2f1aec9ca930f4f66f81e2a1c32d39b7f87dd7633ec47396e'),\n",
       " 'cumulativeGasUsed': 42942,\n",
       " 'gasUsed': 42942,\n",
       " 'contractAddress': None,\n",
       " 'logs': [],\n",
       " 'status': 1})"
      ]
     },
     "execution_count": 176,
     "metadata": {},
     "output_type": "execute_result"
    }
   ],
   "source": [
    "open_receipt"
   ]
  },
  {
   "cell_type": "code",
   "execution_count": 177,
   "id": "agreed-shirt",
   "metadata": {},
   "outputs": [
    {
     "data": {
      "text/plain": [
       "[]"
      ]
     },
     "execution_count": 177,
     "metadata": {},
     "output_type": "execute_result"
    }
   ],
   "source": [
    "# others join the lottery\n",
    "exec_transact(sc_contract, \"joinLottery\", transaction={'from': alice,'value': sc_w3.toWei(1, 'ether')})\n",
    "exec_transact(sc_contract, \"joinLottery\", transaction={'from': bob,'value': sc_w3.toWei(1, 'ether')})\n",
    "exec_transact(sc_contract, \"joinLottery\", transaction={'from': joe,'value': sc_w3.toWei(1, 'ether')})\n",
    "exec_transact(sc_contract, \"joinLottery\", transaction={'from': mark,'value': sc_w3.toWei(1, 'ether')})\n",
    "exec_transact(sc_contract, \"joinLottery\", transaction={'from': sara,'value': sc_w3.toWei(1, 'ether')})"
   ]
  },
  {
   "cell_type": "code",
   "execution_count": 178,
   "id": "difficult-train",
   "metadata": {},
   "outputs": [
    {
     "data": {
      "text/plain": [
       "5"
      ]
     },
     "execution_count": 178,
     "metadata": {},
     "output_type": "execute_result"
    }
   ],
   "source": [
    "# anyone can see how many people are in the lottery\n",
    "exec_call(sc_contract, \"num_players\")"
   ]
  },
  {
   "cell_type": "code",
   "execution_count": 179,
   "id": "crude-lawyer",
   "metadata": {},
   "outputs": [
    {
     "data": {
      "text/plain": [
       "'0x0000000000000000000000000000000000000000'"
      ]
     },
     "execution_count": 179,
     "metadata": {},
     "output_type": "execute_result"
    }
   ],
   "source": [
    "# anyone can query for the winner, which has not been chosen yet\n",
    "exec_call(sc_contract, \"winner\")"
   ]
  },
  {
   "cell_type": "code",
   "execution_count": 180,
   "id": "hybrid-dutch",
   "metadata": {},
   "outputs": [
    {
     "data": {
      "text/plain": [
       "'0x1efF47bc3a10a45D4B230B5d10E37751FE6AA718'"
      ]
     },
     "execution_count": 180,
     "metadata": {},
     "output_type": "execute_result"
    }
   ],
   "source": [
    "# the addresses currently in the lottery can be queried\n",
    "exec_call(sc_contract, \"playerList\",2)"
   ]
  },
  {
   "cell_type": "code",
   "execution_count": 181,
   "id": "covered-river",
   "metadata": {},
   "outputs": [
    {
     "name": "stdout",
     "output_type": "stream",
     "text": [
      "Lottery must be closed to declare a winner.\n"
     ]
    }
   ],
   "source": [
    "# owner tries to pick winner before the lottery closes\n",
    "try:\n",
    "    exec_transact(sc_contract, \"generateWinner\", transaction={'from': owner})\n",
    "except:\n",
    "    print(\"Lottery must be closed to declare a winner.\")"
   ]
  },
  {
   "cell_type": "code",
   "execution_count": 182,
   "id": "conscious-vermont",
   "metadata": {},
   "outputs": [
    {
     "data": {
      "text/plain": [
       "5000000000000000000"
      ]
     },
     "execution_count": 182,
     "metadata": {},
     "output_type": "execute_result"
    }
   ],
   "source": [
    "# owner closes lottery\n",
    "exec_transact(sc_contract, \"closeLottery\", transaction={'from': owner})\n",
    "# see the balance of the lottery\n",
    "sc_w3.eth.getBalance(sc_receipt.contractAddress)"
   ]
  },
  {
   "cell_type": "code",
   "execution_count": 183,
   "id": "abstract-african",
   "metadata": {},
   "outputs": [
    {
     "data": {
      "text/plain": [
       "[]"
      ]
     },
     "execution_count": 183,
     "metadata": {},
     "output_type": "execute_result"
    }
   ],
   "source": [
    "# owner randomly generates winner\n",
    "exec_transact(sc_contract, \"generateWinner\", transaction={'from': owner})"
   ]
  },
  {
   "cell_type": "code",
   "execution_count": 184,
   "id": "positive-consultation",
   "metadata": {},
   "outputs": [
    {
     "data": {
      "text/plain": [
       "1000003999999999999939961"
      ]
     },
     "execution_count": 184,
     "metadata": {},
     "output_type": "execute_result"
    }
   ],
   "source": [
    "# the winner is credited\n",
    "winner_address = exec_transact(sc_contract, \"winner\", transaction={'from': owner})\n",
    "TESTER.get_balance(winner_address)"
   ]
  },
  {
   "cell_type": "code",
   "execution_count": 185,
   "id": "outstanding-shooting",
   "metadata": {},
   "outputs": [
    {
     "data": {
      "text/plain": [
       "999998999999999999937343"
      ]
     },
     "execution_count": 185,
     "metadata": {},
     "output_type": "execute_result"
    }
   ],
   "source": [
    "# loser gets nothing\n",
    "loser_address = exec_call(sc_contract, \"playerList\",2)\n",
    "TESTER.get_balance(loser_address)"
   ]
  },
  {
   "cell_type": "code",
   "execution_count": 186,
   "id": "durable-argentina",
   "metadata": {},
   "outputs": [
    {
     "data": {
      "text/plain": [
       "0"
      ]
     },
     "execution_count": 186,
     "metadata": {},
     "output_type": "execute_result"
    }
   ],
   "source": [
    "# see the balance of the contract is now 0\n",
    "sc_w3.eth.getBalance(sc_receipt.contractAddress)"
   ]
  },
  {
   "cell_type": "code",
   "execution_count": 187,
   "id": "compatible-mason",
   "metadata": {},
   "outputs": [
    {
     "data": {
      "text/plain": [
       "[]"
      ]
     },
     "execution_count": 187,
     "metadata": {},
     "output_type": "execute_result"
    }
   ],
   "source": [
    "# owner resets lottery and the process can begin again\n",
    "exec_transact(sc_contract, \"resetLottery\", transaction={'from': owner})"
   ]
  },
  {
   "cell_type": "code",
   "execution_count": 188,
   "id": "instant-pottery",
   "metadata": {},
   "outputs": [
    {
     "data": {
      "text/plain": [
       "'0x0000000000000000000000000000000000000000'"
      ]
     },
     "execution_count": 188,
     "metadata": {},
     "output_type": "execute_result"
    }
   ],
   "source": [
    "# now, there is no winner\n",
    "exec_transact(sc_contract, \"winner\", transaction={'from': owner})"
   ]
  },
  {
   "cell_type": "code",
   "execution_count": 189,
   "id": "imperial-copper",
   "metadata": {},
   "outputs": [
    {
     "data": {
      "text/plain": [
       "0"
      ]
     },
     "execution_count": 189,
     "metadata": {},
     "output_type": "execute_result"
    }
   ],
   "source": [
    "# there are no players\n",
    "exec_transact(sc_contract, \"num_players\", transaction={'from': owner})"
   ]
  },
  {
   "cell_type": "markdown",
   "id": "chicken-scene",
   "metadata": {},
   "source": [
    "## Resources and Notes\n",
    "\n",
    "### How to address randomness:\n",
    "100% true randomness in Ethereum is almost impossible to achieve since everything is deterministic. The most effective solutions are to use oracles or generate random numbers off chain. A solution such as Chainlink VRF (Verifiable Random Function) is provable random, but I decided not to pursue this because I would need to send LINK to generate a number this way. Instead, I have a solution that could potentially be exploited by the miner, but it would be pretty difficult. The owner closes the lottery so no one else can enter. Then, the owner calls a function to generate a winner. The random number is generated from the hash of the block.timestamp + block.difficulty. Since the players do not know when the owner will call the function to choose a winner and the players cannot predict the exact timestamps of future blocks, this solution should be mostly fair. Potential problems come from miners manipulating the timestamp and difficulty to get a hash they are looking for. But if they are waiting for a specific time or difficulty, someone else will hash the block before them. Overall, I think this is a solid method for this scenario, but certainly should not be used on the real blockchain.\n",
    "\n",
    "References:\n",
    "https://ethereum.stackexchange.com/questions/191/how-can-i-securely-generate-a-random-number-in-my-smart-contract\n",
    "\n",
    "https://stackoverflow.com/questions/58188832/solidity-generate-unpredictable-random-number-that-does-not-depend-on-input\n",
    "\n",
    "https://www.sitepoint.com/solidity-pitfalls-random-number-generation-for-ethereum/\n",
    "\n",
    "https://blog.chain.link/random-number-generation-solidity/\n",
    "\n",
    "### Challenges:\n",
    "Initially, I hoped to deploy the contract to the Rinkby testnet using Infura, but I would have had to create numerous Metamask accounts in order to interact with the lottery contract. I also wanted to build a \"Can't-Lose Lottery\" where the pooled lottery money is used to generate interest which is sent to a winner and everyone else gets their initial investment back. However, I could not efficiently simulate the process of generating interest on the pooled ether. \n",
    "\n",
    "### Sources:\n",
    "I want to thank Nodari Gogoberidze for being a great lecturer for CSCI 118 and teaching me about the blockchain. The functions that I incorporated that involved compiling and running transactions were based his those used in his demos throughout the course. \n",
    "\n",
    "eth-tester: https://github.com/ethereum/eth-tester\n",
    "\n",
    "solidity documentation: https://docs.soliditylang.org/en/v0.8.4/\n"
   ]
  },
  {
   "cell_type": "code",
   "execution_count": null,
   "id": "sophisticated-fifty",
   "metadata": {},
   "outputs": [],
   "source": []
  }
 ],
 "metadata": {
  "kernelspec": {
   "display_name": "Python (block_env)",
   "language": "python",
   "name": "block_env"
  },
  "language_info": {
   "codemirror_mode": {
    "name": "ipython",
    "version": 3
   },
   "file_extension": ".py",
   "mimetype": "text/x-python",
   "name": "python",
   "nbconvert_exporter": "python",
   "pygments_lexer": "ipython3",
   "version": "3.6.12"
  }
 },
 "nbformat": 4,
 "nbformat_minor": 5
}
